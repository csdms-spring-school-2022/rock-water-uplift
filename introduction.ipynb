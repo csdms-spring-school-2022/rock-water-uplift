{
 "cells": [
  {
   "cell_type": "markdown",
   "id": "eeb87e64",
   "metadata": {},
   "source": [
    "![Ivy logo](./logo.png)\n",
    "\n",
    "<!-- Links -->\n",
    "\n",
    "[KD]: ./JD_k_D.ipynb\n",
    "[Uplift]: ./rock_water_uplift_uplift.ipynb\n",
    "[Precip]: ./lessons/editors/index.md\n",
    "[Litho]: ./lessons/conda/index.md\n",
    "\n",
    "# ROCK-WATER-UPLIFT: Longterm landscape evolution\n",
    "\n",
    "## Introduction\n",
    "\n",
    "Sediment diffusion and river incision process are essential tools that control landscape evolution.\n",
    "\n",
    "Focusing on Sediment diffusion, the landscape evolves according to the equation:\n",
    "\n",
    "$$\\frac{\\partial z}{\\partial t} = D \\nabla^2 z$$.\n",
    "\n",
    "where D is a hillslope diffusivity or transport-rate coefficient with dimensions of length squared per time and $z$ is elevation.\n",
    "\n",
    "For a better understanding of the Sediment diffusion equation, see: \n",
    "\n",
    "- Culling, W. (1963). Soil Creep and the Development of Hillside Slopes. The Journal of Geology 71(2), 127-161.: https://dx.doi.org/10.1086/626891\n",
    "\n",
    "Focusing on the fluvial erosion process, the landscape evolves according to the equation:\n",
    "\n",
    "$$\\frac{d z}{d t} = -K_\\text{sp} A^{m_{sp}} S^{n_{sp}} + U$$.\n",
    "\n",
    "where $K_{sp}$ is the erodibility coefficient related with climate and lithology. $m_{sp}$ and $n_{sp}$ are positive exponents (usually thought to have a ratio, $m_{sp}/n_{sp} \\approx 0.5$). $A$ is drainage area and $S$ is the slope of steepest descent. ($-\\frac{dz}{dx}$) where $x$ is horizontal distance and $z$ is elevation. $U$ is an externally-applied rock uplift field.\n",
    "\n",
    "For a great overview of the stream power equation, see: \n",
    "\n",
    "- Whipple and Tucker, 1999, Dynamics of the stream-power river incision model: Implications for height limits of mountain ranges, landscape response timescales, and research needs, Journal of Geophysical Research.: https://agupubs.onlinelibrary.wiley.com/doi/10.1029/1999JB900120\n",
    "\n",
    "According to the equations, there are several factors controlling surface evolution. In this notebook, we will explore the surface and river evolution as a result of diffusion erosion coefficient, lithology, uplift, and precipitation by using landlab, a Python-based modeling environment.\n",
    "\n",
    "## Method\n",
    "\n",
    "In this notebook, we will use the land lab, a Python-based modeling environment, to understand how the diffusivity and erodibility coefficient, lithology, rock uplift rates, and precipitation control the surface and river network evolution. \n",
    "\n",
    "The major Landlab components that we will use in this notebook include FlowAccumulator, FastscapeEroder, LinearDiffuser, Lithology, LithoLayers, and SinkFillerBarnes\n",
    "\n",
    "Click the link below to explore the effect of each factor.\n",
    "\n",
    "**We will explore...**\n",
    "1. [K_sp and D][KD]\n",
    "1. [Uplift rate][Uplift]\n",
    "1. [Precipitation][Precip]\n",
    "1. [Lithology][Litho]\n",
    "\n",
    "The example below shows the advanced case when we study the surface evolution controlled by the combination of the factors. Varies types of lithology, dome-shaped uplift rate, and orographic precipitation rate are used in the example below.\n",
    "\n",
    "\n",
    "This is the part of the CSDMS spring school 2022\n",
    "</br>\n",
    "[Community Surface Dynamics Modeling System ](https://csdms.colorado.edu)(CSDMS).\n",
    "\n",
    "## Example"
   ]
  },
  {
   "cell_type": "code",
   "execution_count": null,
   "id": "4fbd26a0-e5c1-46c5-9a99-7af5b255c7dc",
   "metadata": {},
   "outputs": [],
   "source": []
  }
 ],
 "metadata": {
  "jupytext": {
   "cell_metadata_filter": "-all",
   "main_language": "python",
   "notebook_metadata_filter": "-all"
  },
  "kernelspec": {
   "display_name": "Python 3 (ipykernel)",
   "language": "python",
   "name": "python3"
  },
  "language_info": {
   "codemirror_mode": {
    "name": "ipython",
    "version": 3
   },
   "file_extension": ".py",
   "mimetype": "text/x-python",
   "name": "python",
   "nbconvert_exporter": "python",
   "pygments_lexer": "ipython3",
   "version": "3.9.7"
  }
 },
 "nbformat": 4,
 "nbformat_minor": 5
}
